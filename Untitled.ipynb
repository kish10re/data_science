{
 "cells": [
  {
   "cell_type": "markdown",
   "id": "fe2acdb0",
   "metadata": {},
   "source": [
    "%html\n",
    "<i>wednesday 3 may </i>\n",
    "<h3>r squared </h3>\n",
    "    <p>r squared is the difference between worst case[kuch nahi mila to mean bol do <strong>cosider scenario we have tio predict the salaray based on the experience ,our manager came told us to we dont have experince  data now tel what salary i should offer to him <i>so in that case what i can do is to find the mean of salary and tell that salary [thsi will occur when i dont have salary ka but when i have the salray data with me i will not do this thing<i></strong> and the regresssion line(relation between the dependent and the independent variable)<li>so re squared is difference betweeen regressin line and the mean squared error  so r2 squard hame ye batata hi ki worst case {mean hi} usse regressin line kitna achha hi</li><li>i would like to add point in this that is r2 squared can be a negative because the [there is situation where u will get the -ve correleation between the different features </li> <li>agar r2 squared 0.40 aaya which means ham 40 percenbt relation bata paa rhe 60% kahan se aayaa pata nahi so it is good if we have high percentage value in r2squared</li> <li>adjacent r2 squared came into picture becuause whenever new feature coming r2 squared was unable to explaing it adjacent r2 squared will sort that problem =</li>\n",
    "    <b>variance means sum of squared error this is also defined as the difference of actual point from mean</b>\n",
    "    </p>\n",
    "$ r^2 =(var of mean -variance of regression)/variance of mean$\n",
    "    "
   ]
  },
  {
   "cell_type": "markdown",
   "id": "ec4d6d8c",
   "metadata": {},
   "source": [
    "# %html\n",
    "<marquee>hello world</marquee>\n",
    "<p><strong>probability</strong>of an event x occcuring is equal to preffered outcome outof total number of action performed example getting head after tossingn the coing two times ie 2/2,2/2,1/2,1/2</p>\n",
    "\n",
    "\n",
    "The Probability of event X occurring equals the number of preferred outcomes over the number of outcomes in the\n",
    "sample space.\n",
    "\n",
    "kya kya aa sakta hi is the sample space[example if i flip a coin]there is possibility that ya to head aayega ya to tail aayega [h,t] so total sample space is 2.  so getting head is 1/2 \n",
    "<p>so therefore probability of geeting head is equal the number of head comes as outcomes over the number of outcomes in the sample space</p>  \n",
    "\n",
    "<p>\n",
    "    the specific outcome we expect when we run an experimnet\n",
    "</p>\n",
    "<ul>\n",
    "    four ways to import module in python\n",
    "    <li>impot numpy </li>\n",
    "    <li>import numpy as np</li>\n",
    "    <li> from numpy import*</li>\n",
    "    <li>import math as m</li>\n",
    "    \n",
    "</ul>\n",
    "\n",
    "<ul>\n",
    "    <li> linear Regresssion<p>linear regression in the linear representation of th cuasal relationship between the two variable </p></li>\n",
    "    <li>to install the any libray press <strong><ol>list all the packages <li>conda list</li>\n",
    "        <li>pip install seaborn</li>\n",
    "        <li>pip install name_of_the_library</li>\n",
    "        </ol></strong>\n",
    "        \n",
    "        \n",
    "        <div>\n",
    "            <h3>standard deviation</h3>\n",
    "            <p>standard deviation will tell about the how data is actually varied from the mean</p>\n",
    "            so if the standard deviation ka value less hi to it is good because it will tell u the data is good achha kyuki most of the data average value ke najdeek hi,<aside>but agar deviatin jyada which average is of no use in that case</aside>\n",
    "        </div>   \n",
    "    \n",
    "    </li>\n",
    "    </ul>\n"
   ]
  },
  {
   "cell_type": "code",
   "execution_count": 3,
   "id": "d8573fb8",
   "metadata": {},
   "outputs": [
    {
     "ename": "ModuleNotFoundError",
     "evalue": "No module named 'panda'",
     "output_type": "error",
     "traceback": [
      "\u001b[0;31m---------------------------------------------------------------------------\u001b[0m",
      "\u001b[0;31mModuleNotFoundError\u001b[0m                       Traceback (most recent call last)",
      "Cell \u001b[0;32mIn[3], line 1\u001b[0m\n\u001b[0;32m----> 1\u001b[0m \u001b[38;5;28;01mimport\u001b[39;00m \u001b[38;5;21;01mpanda\u001b[39;00m \u001b[38;5;28;01mas\u001b[39;00m \u001b[38;5;21;01mpd\u001b[39;00m\n",
      "\u001b[0;31mModuleNotFoundError\u001b[0m: No module named 'panda'"
     ]
    }
   ],
   "source": [
    "\n",
    "\n",
    "import panda as pd"
   ]
  },
  {
   "cell_type": "code",
   "execution_count": 4,
   "id": "671bf11b",
   "metadata": {},
   "outputs": [
    {
     "name": "stdout",
     "output_type": "stream",
     "text": [
      "\u001b[33mWARNING: Retrying (Retry(total=4, connect=None, read=None, redirect=None, status=None)) after connection broken by 'NewConnectionError('<pip._vendor.urllib3.connection.HTTPSConnection object at 0x10567c880>: Failed to establish a new connection: [Errno 8] nodename nor servname provided, or not known')': /simple/pandas/\u001b[0m\u001b[33m\n",
      "\u001b[0m\u001b[33mWARNING: Retrying (Retry(total=3, connect=None, read=None, redirect=None, status=None)) after connection broken by 'NewConnectionError('<pip._vendor.urllib3.connection.HTTPSConnection object at 0x10567d180>: Failed to establish a new connection: [Errno 8] nodename nor servname provided, or not known')': /simple/pandas/\u001b[0m\u001b[33m\n",
      "\u001b[0m\u001b[33mWARNING: Retrying (Retry(total=2, connect=None, read=None, redirect=None, status=None)) after connection broken by 'NewConnectionError('<pip._vendor.urllib3.connection.HTTPSConnection object at 0x10567d5d0>: Failed to establish a new connection: [Errno 8] nodename nor servname provided, or not known')': /simple/pandas/\u001b[0m\u001b[33m\n",
      "\u001b[0m\u001b[33mWARNING: Retrying (Retry(total=1, connect=None, read=None, redirect=None, status=None)) after connection broken by 'NewConnectionError('<pip._vendor.urllib3.connection.HTTPSConnection object at 0x10567d780>: Failed to establish a new connection: [Errno 8] nodename nor servname provided, or not known')': /simple/pandas/\u001b[0m\u001b[33m\n",
      "\u001b[0m\u001b[33mWARNING: Retrying (Retry(total=0, connect=None, read=None, redirect=None, status=None)) after connection broken by 'NewConnectionError('<pip._vendor.urllib3.connection.HTTPSConnection object at 0x10567d930>: Failed to establish a new connection: [Errno 8] nodename nor servname provided, or not known')': /simple/pandas/\u001b[0m\u001b[33m\n",
      "\u001b[0m\u001b[31mERROR: Could not find a version that satisfies the requirement pandas (from versions: none)\u001b[0m\u001b[31m\n",
      "\u001b[0m\u001b[31mERROR: No matching distribution found for pandas\u001b[0m\u001b[31m\n",
      "\u001b[0m"
     ]
    }
   ],
   "source": [
    "!pip install pandas"
   ]
  },
  {
   "cell_type": "code",
   "execution_count": 14,
   "id": "96769434",
   "metadata": {},
   "outputs": [
    {
     "name": "stdout",
     "output_type": "stream",
     "text": [
      "hell\n"
     ]
    },
    {
     "ename": "TypeError",
     "evalue": "math.sqrt() takes exactly one argument (0 given)",
     "output_type": "error",
     "traceback": [
      "\u001b[0;31m---------------------------------------------------------------------------\u001b[0m",
      "\u001b[0;31mTypeError\u001b[0m                                 Traceback (most recent call last)",
      "Cell \u001b[0;32mIn[14], line 8\u001b[0m\n\u001b[1;32m      6\u001b[0m \u001b[38;5;28;01mimport\u001b[39;00m \u001b[38;5;21;01mmath\u001b[39;00m\n\u001b[1;32m      7\u001b[0m \u001b[38;5;28mprint\u001b[39m(\u001b[38;5;124m\"\u001b[39m\u001b[38;5;124mhell\u001b[39m\u001b[38;5;124m\"\u001b[39m)\n\u001b[0;32m----> 8\u001b[0m help(\u001b[43mmath\u001b[49m\u001b[38;5;241;43m.\u001b[39;49m\u001b[43msqrt\u001b[49m\u001b[43m(\u001b[49m\u001b[43m)\u001b[49m)\n",
      "\u001b[0;31mTypeError\u001b[0m: math.sqrt() takes exactly one argument (0 given)"
     ]
    }
   ],
   "source": [
    "# from math import sqrt\n",
    "\n",
    "# # import numpy\n",
    "# print(\"hell\")\n",
    "# help(math)\n",
    "import math\n",
    "print(\"hell\")\n",
    "help(math.sqrt)\n",
    "\n",
    "\n",
    "# four ways to import "
   ]
  },
  {
   "cell_type": "markdown",
   "id": "ab9e0cb3",
   "metadata": {},
   "source": [
    "%html\n",
    "<body>\n",
    "    \n",
    "    <button> clik</button>   \n",
    "    \n",
    "</body>\n",
    "\n",
    "<ul><h3>11vs of big data</h3></ul>\n",
    "<li>volume</li>\n",
    "<description> hight amount of data</description>\n",
    "<li>velcity</li>\n",
    "<description>stream of data</description>\n",
    "<li>varacity</li>\n",
    "    <description>variety in the data such as the big data handle high in varacity such text,video,images,audio variety of data </description>\n",
    "<li>volume</li>\n",
    "\n",
    "\n",
    "\n",
    "\n",
    "\n",
    "<i>helo</i>\n",
    "<marquee>jai siya raam</marquee>\n",
    "<h1>kishore</h1>\n",
    "<h2>kishore</h2>\n",
    "<h3>kishore</h3>\n",
    "<h4>kishore</h4>\n",
    "<h5>kishore</h5>\n",
    "<h6>kishore</h6>\n",
    "\n",
    "<a href=\"www.google.com\">click on me </a>\n",
    "\n",
    "\n",
    "\n"
   ]
  },
  {
   "cell_type": "markdown",
   "id": "a099c4e2",
   "metadata": {},
   "source": [
    "<html>\n",
    "<head>\n",
    "<script>\n",
    "function validateForm() {\n",
    "  let x = document.forms[\"myForm\"][\"fname\"].value;\n",
    "  if (x == \"\") {\n",
    "    alert(\"Name must be filled out\");\n",
    "    return false;\n",
    "  }\n",
    "}\n",
    "</script>\n",
    "</head>\n",
    "<body>\n",
    "\n",
    "<h2>JavaScript Validation</h2>\n",
    "\n",
    "<form name=\"myForm\" action=\"/action_page.php\" onsubmit=\"return validateForm()\" method=\"post\">\n",
    "  Name: <input type=\"text\" name=\"fname\">\n",
    "  <input type=\"submit\" value=\"Submit\">\n",
    "</form>\n",
    "\n",
    "</body>\n",
    "</html>\n"
   ]
  },
  {
   "cell_type": "markdown",
   "id": "18829a5e",
   "metadata": {},
   "source": [
    "<html>\n",
    "<body>\n",
    "\n",
    "<h2>JavaScript Arrays</h2>\n",
    "\n",
    "<p>The Array.reverse() method reverses the order of the elements in an array.</p>\n",
    "\n",
    "<p id=\"demo\"></p>\n",
    "\n",
    "<script>\n",
    "const fruits = [\"Banana\", \"Orange\", \"Apple\", \"Mango\"];\n",
    "document.getElementById(\"demo\").innerHTML = fruits.reverse();\n",
    "</script>\n",
    "\n",
    "</body>\n",
    "</html>\n"
   ]
  }
 ],
 "metadata": {
  "kernelspec": {
   "display_name": "Python 3 (ipykernel)",
   "language": "python",
   "name": "python3"
  },
  "language_info": {
   "codemirror_mode": {
    "name": "ipython",
    "version": 3
   },
   "file_extension": ".py",
   "mimetype": "text/x-python",
   "name": "python",
   "nbconvert_exporter": "python",
   "pygments_lexer": "ipython3",
   "version": "3.10.11"
  }
 },
 "nbformat": 4,
 "nbformat_minor": 5
}
